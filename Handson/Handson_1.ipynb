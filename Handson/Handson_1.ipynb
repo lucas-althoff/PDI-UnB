{
  "nbformat": 4,
  "nbformat_minor": 0,
  "metadata": {
    "colab": {
      "name": "Handson#1.ipynb",
      "provenance": []
    },
    "kernelspec": {
      "name": "python3",
      "display_name": "Python 3"
    }
  },
  "cells": [
    {
      "cell_type": "markdown",
      "metadata": {
        "id": "PP4n7Nh4Smj5",
        "colab_type": "text"
      },
      "source": [
        "#Hands on #1\n"
      ]
    },
    {
      "cell_type": "markdown",
      "metadata": {
        "id": "RAWnzx29Sp-s",
        "colab_type": "text"
      },
      "source": [
        "## Estrutura da aula\n",
        "1. Google Colab\n",
        "  - Overview\n",
        "  - Cópia do aluno\n",
        "\n",
        "2. Python 3\n",
        "  - String\n",
        "  - \n"
      ]
    },
    {
      "cell_type": "markdown",
      "metadata": {
        "id": "iL_HrNfNThJx",
        "colab_type": "text"
      },
      "source": [
        "## Google Colab"
      ]
    },
    {
      "cell_type": "markdown",
      "metadata": {
        "id": "P1eU6eLJTlBj",
        "colab_type": "text"
      },
      "source": [
        "## Python 3"
      ]
    },
    {
      "cell_type": "markdown",
      "metadata": {
        "id": "rkOZW8KjIyWR",
        "colab_type": "text"
      },
      "source": [
        "### Manipulação de string e I/O de string\n",
        "\n",
        "Como solicitar informações de input para o usuário em forma de string?\n",
        "\n",
        "Como inserir variáveis string formatadas de uma maneira flexível?"
      ]
    },
    {
      "cell_type": "code",
      "metadata": {
        "id": "N3_ejUYlIiOv",
        "colab_type": "code",
        "colab": {}
      },
      "source": [
        "# Ask user for name\n",
        "\n",
        "name = input(\"What is your name?: \")\n",
        "\n",
        "# Ask user for age\n",
        "\n",
        "age = input(\"How old are you?: \")\n",
        "\n",
        "# Ask user for city\n",
        "\n",
        "city = input(\"What city do you live in?: \")\n",
        "\n",
        "# Ask user what they enjoy\n",
        "\n",
        "love = input(\"What do you love doing?: \")\n",
        "\n",
        "# Create output text\n",
        "\n",
        "string = \"Your name is {} and you are {} years old. You live in {} and you love {}\"\n",
        "output = string.format(name, age, city, love)\n",
        "\n",
        "# Print output to screen\n",
        "print(output)"
      ],
      "execution_count": null,
      "outputs": []
    },
    {
      "cell_type": "markdown",
      "metadata": {
        "id": "WSU59pe-TvMW",
        "colab_type": "text"
      },
      "source": [
        "## Numpy"
      ]
    },
    {
      "cell_type": "code",
      "metadata": {
        "id": "EHcIpThoZDx5",
        "colab_type": "code",
        "colab": {
          "base_uri": "https://localhost:8080/",
          "height": 255
        },
        "outputId": "69d46a47-7055-45f6-84c9-cdcc0aad5657"
      },
      "source": [
        "import numpy as np\n",
        "\n",
        "# Criação de um array\n",
        "arr = np.array([1,2,6,7],dtype='uint8')  \n",
        "print(arr,'\\n')\n",
        "\n",
        "# Funções interessantes\n",
        "dimensoes = (3,3)\n",
        "zeros = np.zeros(dimensoes, dtype='uint8')\n",
        "print(zeros,'\\n')\n",
        "\n",
        "uns = np.ones(dimensoes, dtype='uint8')\n",
        "print(uns,'\\n')\n",
        "\n",
        "vazio = np.empty(dimensoes, dtype='uint8')\n",
        "print(vazio,'\\n')"
      ],
      "execution_count": null,
      "outputs": [
        {
          "output_type": "stream",
          "text": [
            "[1 2 6 7] \n",
            "\n",
            "[[0 0 0]\n",
            " [0 0 0]\n",
            " [0 0 0]] \n",
            "\n",
            "[[1 1 1]\n",
            " [1 1 1]\n",
            " [1 1 1]] \n",
            "\n",
            "[[1 1 1]\n",
            " [1 1 1]\n",
            " [1 1 1]] \n",
            "\n"
          ],
          "name": "stdout"
        }
      ]
    },
    {
      "cell_type": "code",
      "metadata": {
        "id": "A8lzAxqLaAkt",
        "colab_type": "code",
        "colab": {
          "base_uri": "https://localhost:8080/",
          "height": 153
        },
        "outputId": "e1de7fe7-94b0-496f-8f8c-7c05bfc0bf00"
      },
      "source": [
        "# Operações Básicas\n",
        "\n",
        "# Soma\n",
        "arr = arr + 10 \n",
        "#arr = arr + np.array([])\n",
        "print(\"Sum is:\\n\",arr)\n",
        "# Subtração\n",
        "arr = arr - 10 \n",
        "#arr = arr + np.array([])\n",
        "print(\"Subtraction is:\\n\",arr)\n",
        "# Multiplicação\n",
        "arr = arr*2 \n",
        "print(\"Multiplication is:\\n\",arr)\n",
        "# Divisão\n",
        "arr = arr/2\n",
        "print(\"Division is:\\n\",arr)"
      ],
      "execution_count": null,
      "outputs": [
        {
          "output_type": "stream",
          "text": [
            "Sum is:\n",
            " [11. 12. 16. 17.]\n",
            "Subtraction is:\n",
            " [1. 2. 6. 7.]\n",
            "Multiplication is:\n",
            " [ 2.  4. 12. 14.]\n",
            "Division is:\n",
            " [1. 2. 6. 7.]\n"
          ],
          "name": "stdout"
        }
      ]
    },
    {
      "cell_type": "code",
      "metadata": {
        "id": "RpnvJOEqbdOB",
        "colab_type": "code",
        "colab": {
          "base_uri": "https://localhost:8080/",
          "height": 391
        },
        "outputId": "cefb1e7c-8f21-47ff-baea-83ffac2a82e1"
      },
      "source": [
        "# Numpy Array vs Numpy Matrix\n",
        "\n",
        "array1 = np.array([[1,2],[4,5]], dtype='uint8')\n",
        "print(\"Array is:\\n\", array1)\n",
        "id = [[1,0],[0,1]]\n",
        "\n",
        "print(\"Matrix multiplication\\n Array is:\\n\",array1@id)\n",
        "print(\"Multiplcation of arrays\\n Array is:\\n\",array1*id)\n",
        "\n",
        "matriz = np.matrix([[8,9],[3,4]], dtype='uint8')\n",
        "matriz = matriz+10\n",
        "\n",
        "print(\"Matrix is:\\n\", matriz)\n",
        "print(\"Matrix multiplicationq\\nMatrix is:\\n\", matriz@id)\n",
        "print(\"Array  multiplication\\nMatrix is:\\n\", matriz*id)\n"
      ],
      "execution_count": null,
      "outputs": [
        {
          "output_type": "stream",
          "text": [
            "Array ar is:\n",
            " [[1 2]\n",
            " [4 5]]\n",
            "Matrix multiplication\n",
            " Array is:\n",
            " [[1 2]\n",
            " [4 5]]\n",
            "Multiplcation of arrays\n",
            " Array is:\n",
            " [[1 0]\n",
            " [0 5]]\n",
            "Matrix is:\n",
            " [[18 19]\n",
            " [13 14]]\n",
            "Matrix multiplicationq\n",
            "Matrix is:\n",
            " [[18 19]\n",
            " [13 14]]\n",
            "Array  multiplication\n",
            "Matrix is:\n",
            " [[18 19]\n",
            " [13 14]]\n"
          ],
          "name": "stdout"
        }
      ]
    },
    {
      "cell_type": "code",
      "metadata": {
        "id": "iAgqyDhKg_Kl",
        "colab_type": "code",
        "colab": {
          "base_uri": "https://localhost:8080/",
          "height": 136
        },
        "outputId": "8a22ccff-61a0-4098-c162-60e70197d768"
      },
      "source": [
        "# Acesso à informação de Array\n",
        "\n",
        "# Shape\n",
        "print(np.shape(vetor))\n",
        "\n",
        "# Slicing\n",
        "#parte = arr[inicio:fim:passo,inicio:fim:passo]\n",
        "\n",
        "# Data type\n",
        "arr = arr.astype('float64') \n",
        "print(arr.dtype)\n",
        "arr = arr.astype('uint8') \n",
        "print(arr.dtype)\n",
        "\n",
        "vazio = np.empty(dimensoes, dtype='float')\n",
        "print(vazio,'\\n')\n",
        "\n"
      ],
      "execution_count": null,
      "outputs": [
        {
          "output_type": "stream",
          "text": [
            "(4,)\n",
            "float64\n",
            "uint8\n",
            "[[2.9210141e-316 0.0000000e+000 0.0000000e+000]\n",
            " [0.0000000e+000 0.0000000e+000 0.0000000e+000]\n",
            " [0.0000000e+000 0.0000000e+000 0.0000000e+000]] \n",
            "\n"
          ],
          "name": "stdout"
        }
      ]
    },
    {
      "cell_type": "markdown",
      "metadata": {
        "id": "ucuf9W0xTnvp",
        "colab_type": "text"
      },
      "source": [
        "## Opencv"
      ]
    },
    {
      "cell_type": "code",
      "metadata": {
        "id": "S4ODCT37ZEpG",
        "colab_type": "code",
        "colab": {}
      },
      "source": [
        "import cv2 as cv\n",
        "from google.colab.patches import cv2_imshow\n",
        "\n",
        "# imread\n",
        "image = cv.imread(url)\n",
        "image = cv.imread(DriveDir)\n",
        "\n",
        "# Imshow\n",
        "cv2_imshow(image_2)\n",
        "\n",
        "# formato das imagens(bmp,jpg, png,...)\n",
        "\n",
        "# Color Mapping(Gray, RGB, BGR)\n",
        "image = cv.cvtColor(image , cv.COLOR_BGR2RGB)\n",
        "image = cv.cvtColor(image , cv.COLOR_BGR2GRAY)\n",
        "\n",
        "# Resize\n",
        "resized = cv2.resize(img, (outputDim1,outputDim2), interpolation=cv2.INTER_LINEAR)\n",
        "\n",
        "# Imsave\n",
        " cv2.imwrite('/path/to/destination/image.png',image)"
      ],
      "execution_count": null,
      "outputs": []
    }
  ]
}