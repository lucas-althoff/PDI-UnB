{
  "nbformat": 4,
  "nbformat_minor": 0,
  "metadata": {
    "colab": {
      "name": "Lista_01.ipynb",
      "provenance": []
    },
    "kernelspec": {
      "name": "python3",
      "display_name": "Python 3"
    }
  },
  "cells": [
    {
      "cell_type": "markdown",
      "metadata": {
        "id": "l6IXGgQo4-Yk",
        "colab_type": "text"
      },
      "source": [
        "# Lista 01 Processamento de Imagens\n",
        "Professora: Mylene Farias\n",
        "\n",
        "Monitores: André da Costa e Lucas Althoff\n",
        "\n",
        "\n",
        "---\n",
        "\n"
      ]
    },
    {
      "cell_type": "markdown",
      "metadata": {
        "id": "E42R_ixA12iV",
        "colab_type": "text"
      },
      "source": [
        "#Questão 1 \n",
        "\n",
        "A imagem lenna_metade.jpg é uma versão reduzida da imagem lenna.jpg. Na imagem reduzida, foram subtraída metade das linhas e metade das colunas. Implemente os algoritmos de Interpolação Bilinear e Bicúbica e restaure a imagem ao seu tamanho original.\n"
      ]
    },
    {
      "cell_type": "markdown",
      "metadata": {
        "id": "9YzPTdZsCAUI",
        "colab_type": "text"
      },
      "source": [
        "### Segunda Questão\n",
        "\n",
        "Realize a interpolação utilizando a função pronta do OpenCV. Compare os resultados obtidos com a sua implementação e a implementação do OpenCV. A comparação deve abranger o tempo de processamento das interpolações assim como a PSNR, peak-signal-to-noise-ratio, implementada abaixo.\n"
      ]
    },
    {
      "cell_type": "code",
      "metadata": {
        "id": "Jln6fqwmIxxE",
        "colab_type": "code",
        "colab": {}
      },
      "source": [
        "import math\n",
        "import numpy as np\n",
        "\n",
        "def calculate_psnr(img1, img2):\n",
        "    # img1 and img2 have range [0, 255]\n",
        "    img1 = img1.astype(np.float64)\n",
        "    img2 = img2.astype(np.float64)\n",
        "    mse = np.mean((img1 - img2)**2)\n",
        "    if mse == 0:\n",
        "        return float('inf')\n",
        "    return 20 * math.log10(255.0 / math.sqrt(mse))"
      ],
      "execution_count": null,
      "outputs": []
    },
    {
      "cell_type": "markdown",
      "metadata": {
        "id": "ASo3voAfJOZ0",
        "colab_type": "text"
      },
      "source": [
        "## Resultado usando opencv"
      ]
    },
    {
      "cell_type": "code",
      "metadata": {
        "id": "E9nRqCsmDjJV",
        "colab_type": "code",
        "colab": {}
      },
      "source": [
        "#Documentação em: https://docs.opencv.org/2.4/modules/imgproc/doc/geometric_transformations.html?highlight=resize\n",
        "import cv2\n",
        "\n",
        "img = cv2.imread(\"testimage.png\")\n",
        "image = cv2.cvtColor(image , cv2.COLOR_BGR2GRAY)\n",
        "resized = cv2.resize(img, (100,100), interpolation=cv2.INTER_LINEAR)"
      ],
      "execution_count": null,
      "outputs": []
    },
    {
      "cell_type": "markdown",
      "metadata": {
        "id": "1qrGyE1GLwMk",
        "colab_type": "text"
      },
      "source": [
        "## Cronômetro do Código"
      ]
    },
    {
      "cell_type": "code",
      "metadata": {
        "id": "s-z6dradL4eS",
        "colab_type": "code",
        "colab": {}
      },
      "source": [
        "#Documentação em: https://docs.python.org/3/library/time.html#time.time\n",
        "import time\n",
        "\n",
        "t0 = time.time()\n",
        "code_block\n",
        "t1 = time.time()\n",
        "\n",
        "total = t1-t0"
      ],
      "execution_count": null,
      "outputs": []
    }
  ]
}